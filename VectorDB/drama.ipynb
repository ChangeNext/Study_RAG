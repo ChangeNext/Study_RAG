{
 "cells": [
  {
   "cell_type": "code",
   "execution_count": 4,
   "metadata": {},
   "outputs": [
    {
     "data": {
      "text/plain": [
       "{'ids': [['doctor-john',\n",
       "   'dr.-romantic-2',\n",
       "   'hospital-playlist',\n",
       "   'doctor-prisoner',\n",
       "   \"god's-quiz:-reboot\"]],\n",
       " 'distances': [[0.3436622619628906,\n",
       "   0.45732051134109497,\n",
       "   0.4621430039405823,\n",
       "   0.4815513491630554,\n",
       "   0.5326414392990194]],\n",
       " 'metadatas': [[{'rating': 8.5},\n",
       "   {'rating': 8.7},\n",
       "   {'rating': 9.1},\n",
       "   {'rating': 8.4},\n",
       "   {'rating': 8.3}]],\n",
       " 'embeddings': None,\n",
       " 'documents': [['Doctor John: “Doctor John” is a medical drama about doctors specializing in pain management. In a refreshing take on the genre, “Doctor John” will portray the doctors’ search for the cause of their patients’ mysterious pain as a thrilling chase, almost like a detective hunting down the perpetrator behind an unsolved crime.  : ji sung, lee se young, lee kyu hyung, hwang hee, jung min ah, kwon hwa woon : mystery,  romance,  life,  medical',\n",
       "   'Dr. Romantic 2: A “real doctor” story set in a small, humble hospital called Doldam Hospital. It is a story about people who meet Kim Sa Bu, a genius doctor, and discover “real romance.” : han seok kyu, ahn hyo seop, lee sung kyung, kim joo heon, shin dong wook, so ju yeon : romance,  drama,  medical,  melodrama',\n",
       "   \"Hospital Playlist: The stories of people going through their days that are seemingly ordinary but actually special, at the hospital, a place known as the microcosm of life, where someone is being born and someone's life meets their ending. The five doctors are long-time friends of 20 years who started their undergrad in 1999 in the same medical school and now are colleagues in the same hospital and have a band together. : jo jung suk, yoo yeon seok, jung kyung ho, kim dae myung, jeon mi do, shin hyun bin : friendship,  romance,  life,  medical\",\n",
       "   'Doctor Prisoner: Doctor Prisoner centers around an ace doctor in a university hospital’s emergency care center, a skilled professional who treats his patients with full devotion and without discrimination. However, his medical license gets suspended as a result of a medical malpractice incident that arises when the hospital board director causes a ruckus. He then gets his certificate as a medical internist and applies to work at a prison, where his plan is to cozy up to all the bigshots there—business tycoons, celebrities caught for doing drugs, sports stars guilty of gambling—and to win allies, with the ultimate goal of getting revenge against the hospital that ousted him. To do so, he’ll get rid of the existing prison chief doctor and claim the spot for himself. : namkoong min, kwon na ra, kim byung chul, choi won young, lee da in, jin hee kyung : thriller, law, crime, medical',\n",
       "   \"God's Quiz: Reboot: This is a drama about elite doctors and forensic scientists investigating mysterious deaths and solving mysteries related to rare diseases. Han Jin Woo is the tortured medical genius with a miracle brain that has been through its share of trouble. After he gets involved in an unexpected case, he returns to the medical examiner office for the first time in 4 years. : ryu deok hwan, yoon joo hee, park  hyo joo, park joon myun, kim ki doo, kim jae won : mystery, medical\"]],\n",
       " 'uris': None,\n",
       " 'data': None}"
      ]
     },
     "execution_count": 4,
     "metadata": {},
     "output_type": "execute_result"
    }
   ],
   "source": [
    "# movie 데이터 로드\n",
    "import pandas as pd\n",
    "df = pd.read_csv(\"./data/kdrama.csv\")\n",
    "\n",
    "filter_df = df.drop([\"Aired Date\",\"Aired On\",\"Duration\",\"Content Rating\",\"Production companies\", \"Rank\"], axis=1);\n",
    "\n",
    "import chromadb\n",
    "client = chromadb.PersistentClient(path=\"./data\")\n",
    "\n",
    "collection = client.get_or_create_collection(\n",
    "    name=\"k-drama\",\n",
    "    metadata={\"hnsw:space\": \"cosine\"}\n",
    ")\n",
    "\n",
    "# 데이터 준비\n",
    "# 인덱스\n",
    "ids = []\n",
    "# 메타데이터\n",
    "doc_meta = []\n",
    "# 벡터로 변환 저장할 텍스트 데이터로 ChromaDB에 Embedding 데이터가 없으면 자동으로 벡터로 변환해서 저장한다고 한다. \n",
    "documents = []\n",
    "\n",
    "for idx in range(len(filter_df)):\n",
    "    item = filter_df.iloc[idx]\n",
    "    id = item['Name'].lower().replace(' ','-')\n",
    "    document = f\"{item['Name']}: {item['Synopsis']} : {str(item['Cast']).strip().lower()} : {str(item['Genre']).strip().lower()}\"\n",
    "    meta = {\n",
    "        \"rating\" : item['Rating']\n",
    "    }\n",
    "    \n",
    "    ids.append(id)\n",
    "    doc_meta.append(meta)\n",
    "    documents.append(document)\n",
    "\n",
    "# DB 저장\n",
    "collection.add(\n",
    "    documents=documents,\n",
    "    metadatas=doc_meta,\n",
    "    ids=ids\n",
    ")\n",
    "# DB 쿼리\n",
    "collection.query(\n",
    "    query_texts=[\"medical drama about doctors\"],\n",
    "    n_results=5,\n",
    ")"
   ]
  },
  {
   "cell_type": "code",
   "execution_count": 6,
   "metadata": {},
   "outputs": [],
   "source": [
    "vector_res = collection.query(\n",
    "    query_texts=[\"medical drama about doctors\"],\n",
    "    n_results=5,\n",
    ")\n",
    "\n",
    "srchres = []\n",
    "for v in vector_res['documents'][0]:\n",
    "    item = v.split(':')\n",
    "    srchres.append({\n",
    "        \"title\" : item[0].strip(),\n",
    "        \"synopsis\" : item[1].strip(),\n",
    "        \"cast\" : item[2].strip(),\n",
    "        \"genre\" : item[3].strip(),\n",
    "    })"
   ]
  },
  {
   "cell_type": "code",
   "execution_count": 7,
   "metadata": {},
   "outputs": [
    {
     "data": {
      "text/plain": [
       "[{'title': 'Doctor John',\n",
       "  'synopsis': '“Doctor John” is a medical drama about doctors specializing in pain management. In a refreshing take on the genre, “Doctor John” will portray the doctors’ search for the cause of their patients’ mysterious pain as a thrilling chase, almost like a detective hunting down the perpetrator behind an unsolved crime.',\n",
       "  'cast': 'ji sung, lee se young, lee kyu hyung, hwang hee, jung min ah, kwon hwa woon',\n",
       "  'genre': 'mystery,  romance,  life,  medical'},\n",
       " {'title': 'Dr. Romantic 2',\n",
       "  'synopsis': 'A “real doctor” story set in a small, humble hospital called Doldam Hospital. It is a story about people who meet Kim Sa Bu, a genius doctor, and discover “real romance.”',\n",
       "  'cast': 'han seok kyu, ahn hyo seop, lee sung kyung, kim joo heon, shin dong wook, so ju yeon',\n",
       "  'genre': 'romance,  drama,  medical,  melodrama'},\n",
       " {'title': 'Hospital Playlist',\n",
       "  'synopsis': \"The stories of people going through their days that are seemingly ordinary but actually special, at the hospital, a place known as the microcosm of life, where someone is being born and someone's life meets their ending. The five doctors are long-time friends of 20 years who started their undergrad in 1999 in the same medical school and now are colleagues in the same hospital and have a band together.\",\n",
       "  'cast': 'jo jung suk, yoo yeon seok, jung kyung ho, kim dae myung, jeon mi do, shin hyun bin',\n",
       "  'genre': 'friendship,  romance,  life,  medical'},\n",
       " {'title': 'Doctor Prisoner',\n",
       "  'synopsis': 'Doctor Prisoner centers around an ace doctor in a university hospital’s emergency care center, a skilled professional who treats his patients with full devotion and without discrimination. However, his medical license gets suspended as a result of a medical malpractice incident that arises when the hospital board director causes a ruckus. He then gets his certificate as a medical internist and applies to work at a prison, where his plan is to cozy up to all the bigshots there—business tycoons, celebrities caught for doing drugs, sports stars guilty of gambling—and to win allies, with the ultimate goal of getting revenge against the hospital that ousted him. To do so, he’ll get rid of the existing prison chief doctor and claim the spot for himself.',\n",
       "  'cast': 'namkoong min, kwon na ra, kim byung chul, choi won young, lee da in, jin hee kyung',\n",
       "  'genre': 'thriller, law, crime, medical'},\n",
       " {'title': \"God's Quiz\",\n",
       "  'synopsis': 'Reboot',\n",
       "  'cast': 'This is a drama about elite doctors and forensic scientists investigating mysterious deaths and solving mysteries related to rare diseases. Han Jin Woo is the tortured medical genius with a miracle brain that has been through its share of trouble. After he gets involved in an unexpected case, he returns to the medical examiner office for the first time in 4 years.',\n",
       "  'genre': 'ryu deok hwan, yoon joo hee, park  hyo joo, park joon myun, kim ki doo, kim jae won'}]"
      ]
     },
     "execution_count": 7,
     "metadata": {},
     "output_type": "execute_result"
    }
   ],
   "source": [
    "srchres"
   ]
  }
 ],
 "metadata": {
  "kernelspec": {
   "display_name": "RAG",
   "language": "python",
   "name": "python3"
  },
  "language_info": {
   "codemirror_mode": {
    "name": "ipython",
    "version": 3
   },
   "file_extension": ".py",
   "mimetype": "text/x-python",
   "name": "python",
   "nbconvert_exporter": "python",
   "pygments_lexer": "ipython3",
   "version": "3.8.19"
  },
  "orig_nbformat": 4
 },
 "nbformat": 4,
 "nbformat_minor": 2
}
